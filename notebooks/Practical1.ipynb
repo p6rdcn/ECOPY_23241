{
 "cells": [
  {
   "cell_type": "code",
   "execution_count": null,
   "outputs": [],
   "source": [
    "# Lista feladatok"
   ],
   "metadata": {
    "collapsed": false
   },
   "id": "fb793cc1ee1bacb7"
  },
  {
   "cell_type": "code",
   "execution_count": null,
   "id": "initial_id",
   "metadata": {
    "collapsed": false
   },
   "outputs": [],
   "source": [
    "# 1., Hozzon létre egy listát a következő elemekkel a Subscript operátor segítségével: 17, 18, 3.14, a, alma"
   ]
  },
  {
   "cell_type": "code",
   "execution_count": 4,
   "id": "9e6bb1295f6a1c41",
   "metadata": {
    "collapsed": false,
    "ExecuteTime": {
     "end_time": "2023-09-19T09:54:08.604950700Z",
     "start_time": "2023-09-19T09:54:08.573302300Z"
    }
   },
   "outputs": [
    {
     "name": "stdout",
     "output_type": "stream",
     "text": [
      "[17, 18, 3.14, 'a', 'alma']\n"
     ]
    }
   ],
   "source": [
    "list1 = [17, 18, 3.14, \"a\", \"alma\"]\n",
    "print(list1)\n",
    "test_list2 = [1, 2, 3, 4, 5]\n",
    "test_list = [1, 1, 2, 2, 2, 3, 3, 4, 4, 4, 4, 5, 5, 6, 7, 8, 8, 8, 9, 9, 9, 9, 9]"
   ]
  },
  {
   "cell_type": "code",
   "execution_count": 5,
   "id": "1a0427c3806a075e",
   "metadata": {
    "collapsed": false,
    "ExecuteTime": {
     "end_time": "2023-09-19T09:54:09.139477800Z",
     "start_time": "2023-09-19T09:54:09.131368600Z"
    }
   },
   "outputs": [],
   "source": [
    "# 2., Hozzon létre egy listát a list() függvény alkalmazásával: 1, 2, 3, 4, 5, 6, 7, 8, 9, 10"
   ]
  },
  {
   "cell_type": "code",
   "execution_count": 6,
   "outputs": [
    {
     "name": "stdout",
     "output_type": "stream",
     "text": [
      "[1, 2, 3, 4, 5, 6, 7, 8, 9, 10]\n"
     ]
    }
   ],
   "source": [
    "list2 = list(range(1,11))\n",
    "print(list2)"
   ],
   "metadata": {
    "collapsed": false,
    "ExecuteTime": {
     "end_time": "2023-09-19T09:54:09.633411900Z",
     "start_time": "2023-09-19T09:54:09.618682100Z"
    }
   },
   "id": "1b3263efcf77ba8d"
  },
  {
   "cell_type": "code",
   "execution_count": 7,
   "id": "87a48bdd04adc666",
   "metadata": {
    "collapsed": false,
    "ExecuteTime": {
     "end_time": "2023-09-19T09:54:10.153645500Z",
     "start_time": "2023-09-19T09:54:10.137393500Z"
    }
   },
   "outputs": [],
   "source": [
    "# 3., Adja vissza a lista 1. indexén lévő elemét"
   ]
  },
  {
   "cell_type": "code",
   "execution_count": 8,
   "id": "f7b55ce66eaa1477",
   "metadata": {
    "collapsed": false,
    "ExecuteTime": {
     "end_time": "2023-09-19T09:54:10.789943Z",
     "start_time": "2023-09-19T09:54:10.772197500Z"
    }
   },
   "outputs": [
    {
     "name": "stdout",
     "output_type": "stream",
     "text": [
      "2\n"
     ]
    }
   ],
   "source": [
    "print(list2[1])"
   ]
  },
  {
   "cell_type": "code",
   "execution_count": 9,
   "id": "cb4dee7d4c8dae1c",
   "metadata": {
    "collapsed": false,
    "ExecuteTime": {
     "end_time": "2023-09-19T09:54:11.526043900Z",
     "start_time": "2023-09-19T09:54:11.525537300Z"
    }
   },
   "outputs": [],
   "source": [
    "# 4., Adja vissza a lista 1 elemét"
   ]
  },
  {
   "cell_type": "code",
   "execution_count": 10,
   "id": "b1682229162f49ec",
   "metadata": {
    "collapsed": false,
    "ExecuteTime": {
     "end_time": "2023-09-19T09:54:12.389635400Z",
     "start_time": "2023-09-19T09:54:12.362879400Z"
    }
   },
   "outputs": [
    {
     "name": "stdout",
     "output_type": "stream",
     "text": [
      "1\n"
     ]
    }
   ],
   "source": [
    "print(list2[0])"
   ]
  },
  {
   "cell_type": "code",
   "execution_count": 11,
   "id": "c988bd6fd6137bd1",
   "metadata": {
    "collapsed": false,
    "ExecuteTime": {
     "end_time": "2023-09-19T09:54:13.006240500Z",
     "start_time": "2023-09-19T09:54:13.005734600Z"
    }
   },
   "outputs": [],
   "source": [
    "# 5., Adja vissza a lista legnagyobb elemét"
   ]
  },
  {
   "cell_type": "code",
   "execution_count": 12,
   "id": "2c94a4cc8ec5936d",
   "metadata": {
    "collapsed": false,
    "ExecuteTime": {
     "end_time": "2023-09-19T09:54:13.521783500Z",
     "start_time": "2023-09-19T09:54:13.505743800Z"
    }
   },
   "outputs": [
    {
     "name": "stdout",
     "output_type": "stream",
     "text": [
      "10\n"
     ]
    }
   ],
   "source": [
    "print(max(list2))"
   ]
  },
  {
   "cell_type": "code",
   "execution_count": 13,
   "id": "f2d0f6303be357d0",
   "metadata": {
    "collapsed": false,
    "ExecuteTime": {
     "end_time": "2023-09-19T09:54:13.924221300Z",
     "start_time": "2023-09-19T09:54:13.923714200Z"
    }
   },
   "outputs": [],
   "source": [
    "# 6. Adja vissza a lista legnagyobb elemének az indexét"
   ]
  },
  {
   "cell_type": "code",
   "execution_count": 14,
   "id": "d3c2f3d961fd0a72",
   "metadata": {
    "collapsed": false,
    "ExecuteTime": {
     "end_time": "2023-09-19T09:54:14.320665Z",
     "start_time": "2023-09-19T09:54:14.300983200Z"
    }
   },
   "outputs": [
    {
     "name": "stdout",
     "output_type": "stream",
     "text": [
      "9\n"
     ]
    }
   ],
   "source": [
    "print(list2.index(max(list2)))"
   ]
  },
  {
   "cell_type": "code",
   "execution_count": 15,
   "id": "75d189cb06cb410",
   "metadata": {
    "collapsed": false,
    "ExecuteTime": {
     "end_time": "2023-09-19T09:54:14.746606200Z",
     "start_time": "2023-09-19T09:54:14.746606200Z"
    }
   },
   "outputs": [],
   "source": [
    "# 7., Írjon egy függvényt ami megvizsgálja, hogy a listában létezik-e egy adott elem\n",
    "# függvény név: contains_value\n",
    "# bemeneti paraméterek: input_list, element \n",
    "# kimeneti típus: bool "
   ]
  },
  {
   "cell_type": "code",
   "execution_count": 16,
   "id": "2874f3f5f7334f7a",
   "metadata": {
    "collapsed": false,
    "ExecuteTime": {
     "end_time": "2023-09-19T09:54:15.807454400Z",
     "start_time": "2023-09-19T09:54:15.799826600Z"
    }
   },
   "outputs": [],
   "source": [
    "def contains_value(input_list, element): \n",
    "    return element in input_list"
   ]
  },
  {
   "cell_type": "code",
   "execution_count": 17,
   "id": "a1550da6b798fb6d",
   "metadata": {
    "collapsed": false,
    "ExecuteTime": {
     "end_time": "2023-09-19T09:54:16.350848100Z",
     "start_time": "2023-09-19T09:54:16.336810700Z"
    }
   },
   "outputs": [
    {
     "data": {
      "text/plain": "True"
     },
     "execution_count": 17,
     "metadata": {},
     "output_type": "execute_result"
    }
   ],
   "source": [
    "contains_value(list1, \"a\")"
   ]
  },
  {
   "cell_type": "code",
   "execution_count": 18,
   "id": "4ff7a5a8e77c3570",
   "metadata": {
    "collapsed": false,
    "ExecuteTime": {
     "end_time": "2023-09-19T09:54:23.249177600Z",
     "start_time": "2023-09-19T09:54:23.243661300Z"
    }
   },
   "outputs": [],
   "source": [
    "# 8., Írjon egy függvényt ami megvizsgálja, hogy hány elem található a listában.\n",
    "# függvény név: number_of_elements_in_list\n",
    "# bemeneti paraméterek: input_list \n",
    "# kimeneti típus: int "
   ]
  },
  {
   "cell_type": "code",
   "execution_count": 19,
   "id": "9c77237804758b96",
   "metadata": {
    "collapsed": false,
    "ExecuteTime": {
     "end_time": "2023-09-19T09:54:24.930919300Z",
     "start_time": "2023-09-19T09:54:24.930919300Z"
    }
   },
   "outputs": [],
   "source": [
    "def number_of_elements_in_list(input_list):\n",
    "    return len(input_list)"
   ]
  },
  {
   "cell_type": "code",
   "execution_count": 20,
   "id": "bed569e50734a02c",
   "metadata": {
    "collapsed": false,
    "ExecuteTime": {
     "end_time": "2023-09-19T09:54:26.258624100Z",
     "start_time": "2023-09-19T09:54:26.242656800Z"
    }
   },
   "outputs": [
    {
     "name": "stdout",
     "output_type": "stream",
     "text": [
      "5\n"
     ]
    }
   ],
   "source": [
    "print(number_of_elements_in_list(list1))"
   ]
  },
  {
   "cell_type": "code",
   "execution_count": 21,
   "id": "e00fdbc3454b3e0",
   "metadata": {
    "collapsed": false,
    "ExecuteTime": {
     "end_time": "2023-09-19T09:54:26.877506400Z",
     "start_time": "2023-09-19T09:54:26.872493300Z"
    }
   },
   "outputs": [],
   "source": [
    "# 9., Írjon egy függvényt ami törli az összes elemet a listából\n",
    "# függvény név: remove_every_element_from_list\n",
    "# bemeneti paraméterek: input_list \n",
    "# kimeneti típus: None "
   ]
  },
  {
   "cell_type": "code",
   "execution_count": 22,
   "id": "86ea2864ab680a75",
   "metadata": {
    "collapsed": false,
    "ExecuteTime": {
     "end_time": "2023-09-19T09:54:29.102665200Z",
     "start_time": "2023-09-19T09:54:29.101054600Z"
    }
   },
   "outputs": [],
   "source": [
    "def remove_every_element_from_list(input_list):\n",
    "    input_list = []\n",
    "    return input_list"
   ]
  },
  {
   "cell_type": "code",
   "execution_count": 23,
   "id": "fd4fb9107a1c62e6",
   "metadata": {
    "collapsed": false,
    "ExecuteTime": {
     "end_time": "2023-09-19T09:54:29.790055100Z",
     "start_time": "2023-09-19T09:54:29.774226900Z"
    }
   },
   "outputs": [
    {
     "data": {
      "text/plain": "[]"
     },
     "execution_count": 23,
     "metadata": {},
     "output_type": "execute_result"
    }
   ],
   "source": [
    "remove_every_element_from_list(list1)"
   ]
  },
  {
   "cell_type": "code",
   "execution_count": 24,
   "id": "4b93b2aa868093d7",
   "metadata": {
    "collapsed": false,
    "ExecuteTime": {
     "end_time": "2023-09-19T09:54:30.083089300Z",
     "start_time": "2023-09-19T09:54:30.082579700Z"
    }
   },
   "outputs": [],
   "source": [
    "# 10., Írjon egy függvényt ami fordított sorrendben adja vissza a lista összes elemét\n",
    "# függvény név: reverse_list\n",
    "# bemeneti paraméterek: input_list \n",
    "# kimeneti típus: List "
   ]
  },
  {
   "cell_type": "code",
   "execution_count": 25,
   "id": "b3573ccabce315f6",
   "metadata": {
    "collapsed": false,
    "ExecuteTime": {
     "end_time": "2023-09-19T09:54:30.410349500Z",
     "start_time": "2023-09-19T09:54:30.369054200Z"
    }
   },
   "outputs": [],
   "source": [
    "def reverse_list(input_list):\n",
    "        return list(reversed(input_list))"
   ]
  },
  {
   "cell_type": "code",
   "execution_count": 26,
   "id": "793b21ca395bae46",
   "metadata": {
    "collapsed": false,
    "ExecuteTime": {
     "end_time": "2023-09-19T09:54:30.828583200Z",
     "start_time": "2023-09-19T09:54:30.828075200Z"
    }
   },
   "outputs": [
    {
     "data": {
      "text/plain": "[10, 9, 8, 7, 6, 5, 4, 3, 2, 1]"
     },
     "execution_count": 26,
     "metadata": {},
     "output_type": "execute_result"
    }
   ],
   "source": [
    "reverse_list(list2)"
   ]
  },
  {
   "cell_type": "code",
   "execution_count": 27,
   "id": "fd4a515bb1e95737",
   "metadata": {
    "collapsed": false,
    "ExecuteTime": {
     "end_time": "2023-09-19T09:54:32.019405800Z",
     "start_time": "2023-09-19T09:54:31.986469700Z"
    }
   },
   "outputs": [],
   "source": [
    "# 11., Írjon egy függvényt ami vissza adja a bemeneti lista páratlan elemeit\n",
    "# függvény név: odds_from_list\n",
    "# bemeneti paraméterek: input_list \n",
    "# kimeneti típus: List "
   ]
  },
  {
   "cell_type": "code",
   "execution_count": 28,
   "id": "57a11fda6b893fe3",
   "metadata": {
    "collapsed": false,
    "ExecuteTime": {
     "end_time": "2023-09-19T09:54:32.433933900Z",
     "start_time": "2023-09-19T09:54:32.432418800Z"
    }
   },
   "outputs": [],
   "source": [
    "def odds_from_list(input_list):\n",
    "    odd_elements = []\n",
    "    for i in input_list:\n",
    "        if i % 2 == 1:\n",
    "            odd_elements.append(i)\n",
    "    return odd_elements"
   ]
  },
  {
   "cell_type": "code",
   "execution_count": 29,
   "id": "9f20b2394c40484b",
   "metadata": {
    "collapsed": false,
    "ExecuteTime": {
     "end_time": "2023-09-19T09:54:32.939456300Z",
     "start_time": "2023-09-19T09:54:32.934138400Z"
    }
   },
   "outputs": [
    {
     "data": {
      "text/plain": "[1, 3, 5]"
     },
     "execution_count": 29,
     "metadata": {},
     "output_type": "execute_result"
    }
   ],
   "source": [
    "odds_from_list(test_list2)"
   ]
  },
  {
   "cell_type": "code",
   "execution_count": 30,
   "id": "28290ea181d27115",
   "metadata": {
    "collapsed": false,
    "ExecuteTime": {
     "end_time": "2023-09-19T09:54:33.523300600Z",
     "start_time": "2023-09-19T09:54:33.514753900Z"
    }
   },
   "outputs": [],
   "source": [
    "# 12., Írjon egy függvényt ami megszámolja a bemeneti lista páratlan elemeit\n",
    "# függvény név: number_of_odds_in_list\n",
    "# bemeneti paraméterek: input_list \n",
    "# kimeneti típus: int "
   ]
  },
  {
   "cell_type": "code",
   "execution_count": 31,
   "id": "279b237c1175983",
   "metadata": {
    "collapsed": false,
    "ExecuteTime": {
     "end_time": "2023-09-19T09:54:34.453669200Z",
     "start_time": "2023-09-19T09:54:34.449554300Z"
    }
   },
   "outputs": [],
   "source": [
    "def number_of_odds_in_list(input_list):\n",
    "    odd_elements = []\n",
    "    for i in input_list:\n",
    "        if i % 2 == 1:\n",
    "            odd_elements.append(i)\n",
    "    return len(odd_elements)"
   ]
  },
  {
   "cell_type": "code",
   "execution_count": 32,
   "id": "9cf78a5e1fa0aa59",
   "metadata": {
    "collapsed": false,
    "ExecuteTime": {
     "end_time": "2023-09-19T09:54:35.442271400Z",
     "start_time": "2023-09-19T09:54:35.426111200Z"
    }
   },
   "outputs": [
    {
     "data": {
      "text/plain": "5"
     },
     "execution_count": 32,
     "metadata": {},
     "output_type": "execute_result"
    }
   ],
   "source": [
    "number_of_odds_in_list(list2)"
   ]
  },
  {
   "cell_type": "code",
   "execution_count": 33,
   "id": "337fe85c1df2c4d4",
   "metadata": {
    "collapsed": false,
    "ExecuteTime": {
     "end_time": "2023-09-19T09:54:35.832203800Z",
     "start_time": "2023-09-19T09:54:35.831163200Z"
    }
   },
   "outputs": [],
   "source": [
    "# 13., Írjon egy függvényt ami visszaadja, hogy a bemeneti listának van-e páratlan eleme\n",
    "# függvény név: contains_odd\n",
    "# bemeneti paraméterek: input_list \n",
    "# kimeneti típus: bool "
   ]
  },
  {
   "cell_type": "code",
   "execution_count": 34,
   "id": "a0fc68adef56fd06",
   "metadata": {
    "collapsed": false,
    "ExecuteTime": {
     "end_time": "2023-09-19T09:54:36.235295500Z",
     "start_time": "2023-09-19T09:54:36.233738600Z"
    }
   },
   "outputs": [],
   "source": [
    "def contains_odd(input_list):\n",
    "    odd_elements = []\n",
    "    for i in input_list:\n",
    "        if i % 2 == 1:\n",
    "            odd_elements.append(i)\n",
    "    if len(odd_elements) > 0:\n",
    "        return True\n",
    "    else:\n",
    "        return False"
   ]
  },
  {
   "cell_type": "code",
   "execution_count": 35,
   "id": "aef3c724f03cb646",
   "metadata": {
    "collapsed": false,
    "ExecuteTime": {
     "end_time": "2023-09-19T09:54:37.959383800Z",
     "start_time": "2023-09-19T09:54:37.943670400Z"
    }
   },
   "outputs": [
    {
     "data": {
      "text/plain": "False"
     },
     "execution_count": 35,
     "metadata": {},
     "output_type": "execute_result"
    }
   ],
   "source": [
    "contains_odd([2, 4, 6, 8])"
   ]
  },
  {
   "cell_type": "code",
   "execution_count": 36,
   "id": "fb1703151c29792",
   "metadata": {
    "collapsed": false,
    "ExecuteTime": {
     "end_time": "2023-09-19T09:54:40.135881100Z",
     "start_time": "2023-09-19T09:54:40.119931900Z"
    }
   },
   "outputs": [],
   "source": [
    "# 14., Írjon egy függvényt ami visszaadja a 2. legnagyobb elemet listában \n",
    "# függvény név: second_largest_in_list\n",
    "# bemeneti paraméterek: input_list \n",
    "# kimeneti típus: int "
   ]
  },
  {
   "cell_type": "code",
   "execution_count": 38,
   "id": "dc390b02a099b26a",
   "metadata": {
    "collapsed": false,
    "ExecuteTime": {
     "end_time": "2023-09-19T09:55:16.200448400Z",
     "start_time": "2023-09-19T09:55:16.184885Z"
    }
   },
   "outputs": [],
   "source": [
    "def second_largest_in_list(input_list):\n",
    "    ordered_list = sorted(input_list)\n",
    "    return ordered_list[-2]"
   ]
  },
  {
   "cell_type": "code",
   "execution_count": 40,
   "outputs": [
    {
     "data": {
      "text/plain": "9"
     },
     "execution_count": 40,
     "metadata": {},
     "output_type": "execute_result"
    }
   ],
   "source": [
    "second_largest_in_list(list2)"
   ],
   "metadata": {
    "collapsed": false,
    "ExecuteTime": {
     "end_time": "2023-09-19T09:55:21.642222100Z",
     "start_time": "2023-09-19T09:55:21.639004300Z"
    }
   },
   "id": "496288a1070b52d6"
  },
  {
   "cell_type": "code",
   "execution_count": 41,
   "id": "63ccbb5d3bb44ccd",
   "metadata": {
    "collapsed": false,
    "ExecuteTime": {
     "end_time": "2023-09-19T09:55:39.993241100Z",
     "start_time": "2023-09-19T09:55:39.988715500Z"
    }
   },
   "outputs": [],
   "source": [
    "# 15., Írjon egy függvényt ami kiszámítja a lista elemek összegét \n",
    "# függvény név: sum_of_elements_in_list\n",
    "# bemeneti paraméterek: input_list \n",
    "# kimeneti típus: float "
   ]
  },
  {
   "cell_type": "code",
   "execution_count": 42,
   "id": "24c9f32b0be09452",
   "metadata": {
    "collapsed": false,
    "ExecuteTime": {
     "end_time": "2023-09-19T09:55:40.638662700Z",
     "start_time": "2023-09-19T09:55:40.634646200Z"
    }
   },
   "outputs": [],
   "source": [
    "def sum_of_elements_in_list(input_list):\n",
    "    return sum(input_list)"
   ]
  },
  {
   "cell_type": "code",
   "execution_count": 43,
   "outputs": [
    {
     "data": {
      "text/plain": "55"
     },
     "execution_count": 43,
     "metadata": {},
     "output_type": "execute_result"
    }
   ],
   "source": [
    "sum_of_elements_in_list(list2)"
   ],
   "metadata": {
    "collapsed": false,
    "ExecuteTime": {
     "end_time": "2023-09-19T09:55:41.244417500Z",
     "start_time": "2023-09-19T09:55:41.228319500Z"
    }
   },
   "id": "4f4d84e216c131b7"
  },
  {
   "cell_type": "code",
   "execution_count": 44,
   "id": "783928cacc8f343e",
   "metadata": {
    "collapsed": false,
    "ExecuteTime": {
     "end_time": "2023-09-19T09:55:56.222588Z",
     "start_time": "2023-09-19T09:55:56.189889200Z"
    }
   },
   "outputs": [],
   "source": [
    "# 16., Írjon egy függvényt ami kiszámítja a lista elemek kumulált összegét\n",
    "# függvény név: cumsum_list\n",
    "# bemeneti paraméterek: input_list \n",
    "# kimeneti típus: List "
   ]
  },
  {
   "cell_type": "code",
   "execution_count": 45,
   "id": "82eb965beced99b4",
   "metadata": {
    "collapsed": false,
    "ExecuteTime": {
     "end_time": "2023-09-19T09:55:56.860195Z",
     "start_time": "2023-09-19T09:55:56.843896300Z"
    }
   },
   "outputs": [],
   "source": [
    "def cumsum_list(input_list):\n",
    "    summing_list = []\n",
    "    summing = 0\n",
    "    for i in input_list:\n",
    "        summing = summing + i\n",
    "        summing_list.append(summing)\n",
    "    return summing_list"
   ]
  },
  {
   "cell_type": "code",
   "execution_count": 46,
   "id": "3e40d3bc6c266a25",
   "metadata": {
    "collapsed": false,
    "ExecuteTime": {
     "end_time": "2023-09-19T09:55:58.245874700Z",
     "start_time": "2023-09-19T09:55:58.230212800Z"
    }
   },
   "outputs": [
    {
     "data": {
      "text/plain": "[1, 3, 6, 10, 15, 21, 28, 36, 45, 55]"
     },
     "execution_count": 46,
     "metadata": {},
     "output_type": "execute_result"
    }
   ],
   "source": [
    "cumsum_list(list2)"
   ]
  },
  {
   "cell_type": "code",
   "execution_count": 47,
   "id": "1520ae4325fd9565",
   "metadata": {
    "collapsed": false,
    "ExecuteTime": {
     "end_time": "2023-09-19T09:55:59.632674500Z",
     "start_time": "2023-09-19T09:55:59.617512100Z"
    }
   },
   "outputs": [],
   "source": [
    "# 17., Írjon egy függvényt ami kiszámítja 2 lista elemenként vett összegét\n",
    "# függvény név: element_wise_sum\n",
    "# bemeneti paraméterek: input_list1, input_list2 \n",
    "# kimeneti típus: List "
   ]
  },
  {
   "cell_type": "code",
   "execution_count": 48,
   "id": "68f45914d66fee0f",
   "metadata": {
    "collapsed": false,
    "ExecuteTime": {
     "end_time": "2023-09-19T09:56:01.714482Z",
     "start_time": "2023-09-19T09:56:01.682975500Z"
    }
   },
   "outputs": [],
   "source": [
    "def element_wise_sum(input_list1, input_list2):\n",
    "    new_list = []\n",
    "    for i in range(len(input_list1)):\n",
    "        new_list.append(input_list1[i] + input_list2[i])\n",
    "    return new_list"
   ]
  },
  {
   "cell_type": "code",
   "execution_count": 49,
   "id": "8587e0ed68288c5b",
   "metadata": {
    "collapsed": false,
    "ExecuteTime": {
     "end_time": "2023-09-19T09:56:02.291012300Z",
     "start_time": "2023-09-19T09:56:02.275192900Z"
    }
   },
   "outputs": [
    {
     "data": {
      "text/plain": "[2, 4, 6, 8, 10, 12, 14, 16, 18, 20]"
     },
     "execution_count": 49,
     "metadata": {},
     "output_type": "execute_result"
    }
   ],
   "source": [
    "element_wise_sum(list2, list2)"
   ]
  },
  {
   "cell_type": "code",
   "execution_count": 52,
   "id": "950494bcdf89e3d9",
   "metadata": {
    "collapsed": false,
    "ExecuteTime": {
     "end_time": "2023-09-19T09:56:54.354662500Z",
     "start_time": "2023-09-19T09:56:54.338754100Z"
    }
   },
   "outputs": [],
   "source": [
    "# 18., Írjon egy függvényt ami visszaadja egy lista, 2 tetszőleges index között vett rész listáját\n",
    "# függvény név: subset_of_list\n",
    "# bemeneti paraméterek: input_list, start_index, end_index\n",
    "# kimeneti típus: List "
   ]
  },
  {
   "cell_type": "code",
   "execution_count": 53,
   "id": "720d5fe404eacb35",
   "metadata": {
    "collapsed": false,
    "ExecuteTime": {
     "end_time": "2023-09-19T09:56:54.930830700Z",
     "start_time": "2023-09-19T09:56:54.899354300Z"
    }
   },
   "outputs": [],
   "source": [
    "def subset_of_list(input_list, start_index, end_index):\n",
    "    return input_list[start_index:end_index+1]"
   ]
  },
  {
   "cell_type": "code",
   "execution_count": 54,
   "id": "2e1456a04608edeb",
   "metadata": {
    "collapsed": false,
    "ExecuteTime": {
     "end_time": "2023-09-19T09:56:55.325240800Z",
     "start_time": "2023-09-19T09:56:55.309605800Z"
    }
   },
   "outputs": [
    {
     "data": {
      "text/plain": "[1, 2, 3, 4]"
     },
     "execution_count": 54,
     "metadata": {},
     "output_type": "execute_result"
    }
   ],
   "source": [
    "subset_of_list(list2, 0, 3)"
   ]
  },
  {
   "cell_type": "code",
   "execution_count": 48,
   "id": "b9ce22f42af9fa7c",
   "metadata": {
    "collapsed": false,
    "ExecuteTime": {
     "end_time": "2023-09-19T07:35:46.863165100Z",
     "start_time": "2023-09-19T07:35:46.861838700Z"
    }
   },
   "outputs": [],
   "source": [
    "# 19., Írjon egy függvényt ami visszaadja egy lista minden n-edik elemét listaként\n",
    "# függvény név: every_nth\n",
    "# bemeneti paraméterek: input_list, step_size\n",
    "# kimeneti típus: List "
   ]
  },
  {
   "cell_type": "code",
   "execution_count": 49,
   "id": "975736f2becc9bac",
   "metadata": {
    "collapsed": false,
    "ExecuteTime": {
     "end_time": "2023-09-19T07:35:47.034198500Z",
     "start_time": "2023-09-19T07:35:47.018056600Z"
    }
   },
   "outputs": [],
   "source": [
    "def every_nth(input_list, step_size):\n",
    "    new_list = []\n",
    "    length = len(input_list)\n",
    "    counter = 0\n",
    "    while counter <= length-1:\n",
    "        new_list.append(input_list[counter])\n",
    "        counter = counter + step_size\n",
    "    return new_list"
   ]
  },
  {
   "cell_type": "code",
   "execution_count": 50,
   "id": "357370587272fc81",
   "metadata": {
    "collapsed": false,
    "ExecuteTime": {
     "end_time": "2023-09-19T07:35:47.212540300Z",
     "start_time": "2023-09-19T07:35:47.191744800Z"
    }
   },
   "outputs": [
    {
     "data": {
      "text/plain": "[1, 3, 5, 7, 9]"
     },
     "execution_count": 50,
     "metadata": {},
     "output_type": "execute_result"
    }
   ],
   "source": [
    "every_nth(list2, 2)"
   ]
  },
  {
   "cell_type": "code",
   "execution_count": 51,
   "id": "5816b89192f934a1",
   "metadata": {
    "collapsed": false,
    "ExecuteTime": {
     "end_time": "2023-09-19T07:35:47.379491600Z",
     "start_time": "2023-09-19T07:35:47.370236200Z"
    }
   },
   "outputs": [],
   "source": [
    "# 20., Írjon egy függvényt ami eldönti, hogy a lista minden eleme egyedi-e\n",
    "# függvény név: only_unique_in_list\n",
    "# bemeneti paraméterek: input_list\n",
    "# kimeneti típus: bool "
   ]
  },
  {
   "cell_type": "code",
   "execution_count": 52,
   "id": "4e2768e426b188ac",
   "metadata": {
    "collapsed": false,
    "ExecuteTime": {
     "end_time": "2023-09-19T07:35:47.553504500Z",
     "start_time": "2023-09-19T07:35:47.537606800Z"
    }
   },
   "outputs": [],
   "source": [
    "def only_unique_in_list(input_list):\n",
    "    new_list = []\n",
    "    for i in input_list:\n",
    "        if i in new_list:\n",
    "            return False\n",
    "        else:\n",
    "            new_list.append(i)\n",
    "    return True"
   ]
  },
  {
   "cell_type": "code",
   "execution_count": 53,
   "id": "7bca392945d6a984",
   "metadata": {
    "collapsed": false,
    "ExecuteTime": {
     "end_time": "2023-09-19T07:35:47.730894700Z",
     "start_time": "2023-09-19T07:35:47.725057300Z"
    }
   },
   "outputs": [
    {
     "data": {
      "text/plain": "False"
     },
     "execution_count": 53,
     "metadata": {},
     "output_type": "execute_result"
    }
   ],
   "source": [
    "only_unique_in_list([1, 1, 2])"
   ]
  },
  {
   "cell_type": "code",
   "execution_count": 54,
   "id": "d080dd3e1679efbf",
   "metadata": {
    "collapsed": false,
    "ExecuteTime": {
     "end_time": "2023-09-19T07:35:47.907069500Z",
     "start_time": "2023-09-19T07:35:47.906438Z"
    }
   },
   "outputs": [],
   "source": [
    "# 21., Írjon egy függvényt amely eltávolítja a duplikált lista elemeket\n",
    "# függvény név: keep_unique\n",
    "# bemeneti paraméterek: input_list\n",
    "# kimeneti típus: List "
   ]
  },
  {
   "cell_type": "code",
   "execution_count": 55,
   "id": "8a5037c82a3caa8b",
   "metadata": {
    "collapsed": false,
    "ExecuteTime": {
     "end_time": "2023-09-19T07:35:48.080875600Z",
     "start_time": "2023-09-19T07:35:48.064813400Z"
    }
   },
   "outputs": [],
   "source": [
    "def keep_unique(input_list):\n",
    "    new_list = []\n",
    "    for i in input_list:\n",
    "        if i in new_list:\n",
    "            continue\n",
    "        else:\n",
    "            new_list.append(i)\n",
    "    return new_list"
   ]
  },
  {
   "cell_type": "code",
   "execution_count": 56,
   "id": "db73e363987f797d",
   "metadata": {
    "collapsed": false,
    "ExecuteTime": {
     "end_time": "2023-09-19T07:35:48.308990600Z",
     "start_time": "2023-09-19T07:35:48.261890800Z"
    }
   },
   "outputs": [
    {
     "data": {
      "text/plain": "[1, 2]"
     },
     "execution_count": 56,
     "metadata": {},
     "output_type": "execute_result"
    }
   ],
   "source": [
    "keep_unique([1, 1, 2])"
   ]
  },
  {
   "cell_type": "code",
   "execution_count": 57,
   "id": "1d09675d10a71250",
   "metadata": {
    "collapsed": false,
    "ExecuteTime": {
     "end_time": "2023-09-19T07:35:48.451695800Z",
     "start_time": "2023-09-19T07:35:48.435775600Z"
    }
   },
   "outputs": [],
   "source": [
    "# 22., Írjon egy függvényt amely kicserél 2 tetszőleges elemet a listában\n",
    "# függvény név: swap\n",
    "# bemeneti paraméterek: input_list, first_index, second_index\n",
    "# kimeneti típus: List "
   ]
  },
  {
   "cell_type": "code",
   "execution_count": 58,
   "id": "f1974f9bba783dfa",
   "metadata": {
    "collapsed": false,
    "ExecuteTime": {
     "end_time": "2023-09-19T07:35:48.593920600Z",
     "start_time": "2023-09-19T07:35:48.593413100Z"
    }
   },
   "outputs": [],
   "source": [
    "def swap(input_list, first_index, second_index):\n",
    "    new_list = []\n",
    "    counter = 0\n",
    "    for i in input_list:\n",
    "        if counter == first_index:\n",
    "            new_list.append(input_list[second_index])\n",
    "        elif counter == second_index:\n",
    "            new_list.append(input_list[first_index])\n",
    "        else:\n",
    "            new_list.append(i)\n",
    "        counter = counter + 1\n",
    "    return new_list"
   ]
  },
  {
   "cell_type": "code",
   "execution_count": 59,
   "id": "3888481f29688d3",
   "metadata": {
    "collapsed": false,
    "ExecuteTime": {
     "end_time": "2023-09-19T07:35:48.790035900Z",
     "start_time": "2023-09-19T07:35:48.758552600Z"
    }
   },
   "outputs": [
    {
     "data": {
      "text/plain": "[1, 4, 3, 2, 5]"
     },
     "execution_count": 59,
     "metadata": {},
     "output_type": "execute_result"
    }
   ],
   "source": [
    "swap(test_list2, 1, 3)"
   ]
  },
  {
   "cell_type": "code",
   "execution_count": 60,
   "id": "3b05357ab0198b4c",
   "metadata": {
    "collapsed": false,
    "ExecuteTime": {
     "end_time": "2023-09-19T07:35:48.973277700Z",
     "start_time": "2023-09-19T07:35:48.967694800Z"
    }
   },
   "outputs": [],
   "source": [
    "# 23., Írjon egy függvényt amely töröl egy megadott elemet a listából\n",
    "# függvény név: remove_element_by_value\n",
    "# bemeneti paraméterek: input_list, value_to_remove\n",
    "# kimeneti típus: List "
   ]
  },
  {
   "cell_type": "code",
   "execution_count": 61,
   "id": "314e2102c6069b73",
   "metadata": {
    "collapsed": false,
    "ExecuteTime": {
     "end_time": "2023-09-19T07:35:49.144231700Z",
     "start_time": "2023-09-19T07:35:49.141458900Z"
    }
   },
   "outputs": [],
   "source": [
    "def remove_element_by_value(input_list, value_to_remove):\n",
    "    new_list = []\n",
    "    for i in input_list:\n",
    "        if i == value_to_remove:\n",
    "            continue\n",
    "        else:\n",
    "            new_list.append(i)\n",
    "    return new_list"
   ]
  },
  {
   "cell_type": "code",
   "execution_count": 62,
   "id": "1fba323e1abf8ad1",
   "metadata": {
    "collapsed": false,
    "ExecuteTime": {
     "end_time": "2023-09-19T07:35:49.398511500Z",
     "start_time": "2023-09-19T07:35:49.382999500Z"
    }
   },
   "outputs": [
    {
     "data": {
      "text/plain": "[1, 3, 4, 5]"
     },
     "execution_count": 62,
     "metadata": {},
     "output_type": "execute_result"
    }
   ],
   "source": [
    "remove_element_by_value(test_list2, 2)"
   ]
  },
  {
   "cell_type": "code",
   "execution_count": 63,
   "id": "cfaf6d5695fb31df",
   "metadata": {
    "collapsed": false,
    "ExecuteTime": {
     "end_time": "2023-09-19T07:35:49.697956100Z",
     "start_time": "2023-09-19T07:35:49.696308400Z"
    }
   },
   "outputs": [],
   "source": [
    "# 24., Írjon egy függvényt amely töröl egy megadott indexű elemet a listából\n",
    "# függvény név: remove_element_by_index\n",
    "# bemeneti paraméterek: input_list, index\n",
    "# kimeneti típus: List "
   ]
  },
  {
   "cell_type": "code",
   "execution_count": 64,
   "id": "8f166f1039503820",
   "metadata": {
    "collapsed": false,
    "ExecuteTime": {
     "end_time": "2023-09-19T07:35:50.020134900Z",
     "start_time": "2023-09-19T07:35:50.018251900Z"
    }
   },
   "outputs": [],
   "source": [
    "def remove_element_by_index(input_list, index):\n",
    "    new_list = []\n",
    "    counter = 0\n",
    "    for i in input_list:\n",
    "        if counter != index:\n",
    "            new_list.append(i)\n",
    "        counter = counter + 1\n",
    "    return new_list"
   ]
  },
  {
   "cell_type": "code",
   "execution_count": 65,
   "id": "2ead7a0b538aef49",
   "metadata": {
    "collapsed": false,
    "ExecuteTime": {
     "end_time": "2023-09-19T07:35:50.400311200Z",
     "start_time": "2023-09-19T07:35:50.384592200Z"
    }
   },
   "outputs": [
    {
     "data": {
      "text/plain": "[1, 2, 3, 5]"
     },
     "execution_count": 65,
     "metadata": {},
     "output_type": "execute_result"
    }
   ],
   "source": [
    "remove_element_by_index(test_list2, 3)"
   ]
  },
  {
   "cell_type": "code",
   "execution_count": 66,
   "id": "f752e1dbb5e38b88",
   "metadata": {
    "collapsed": false,
    "ExecuteTime": {
     "end_time": "2023-09-19T07:35:50.740574Z",
     "start_time": "2023-09-19T07:35:50.722807Z"
    }
   },
   "outputs": [],
   "source": [
    "# 25., Írjon egy függvényt amely egy tetszőleges számmal megszorozza a lista összes elemét\n",
    "# függvény név: multiply_every_element\n",
    "# bemeneti paraméterek: input_list, multiplier\n",
    "# kimeneti típus: List "
   ]
  },
  {
   "cell_type": "code",
   "execution_count": 67,
   "id": "eff0e4599ddbb8fb",
   "metadata": {
    "collapsed": false,
    "ExecuteTime": {
     "end_time": "2023-09-19T07:35:51.089206400Z",
     "start_time": "2023-09-19T07:35:51.073347400Z"
    }
   },
   "outputs": [],
   "source": [
    "def multiply_every_element(input_list, multiplier):\n",
    "    new_list = []\n",
    "    for i in input_list:\n",
    "        new_list.append(i * multiplier)\n",
    "    return new_list"
   ]
  },
  {
   "cell_type": "code",
   "execution_count": 68,
   "id": "670a1f660c7ae800",
   "metadata": {
    "collapsed": false,
    "ExecuteTime": {
     "end_time": "2023-09-19T07:35:51.451588600Z",
     "start_time": "2023-09-19T07:35:51.448698800Z"
    }
   },
   "outputs": [
    {
     "data": {
      "text/plain": "[3, 6, 9, 12, 15]"
     },
     "execution_count": 68,
     "metadata": {},
     "output_type": "execute_result"
    }
   ],
   "source": [
    "multiply_every_element(test_list2, 3)"
   ]
  },
  {
   "cell_type": "markdown",
   "id": "c7bfcf6fbed3ecf",
   "metadata": {
    "collapsed": false
   },
   "source": [
    "# Dictionary feladatok"
   ]
  },
  {
   "cell_type": "code",
   "execution_count": 69,
   "id": "ea486b7b2097d8c0",
   "metadata": {
    "collapsed": false,
    "ExecuteTime": {
     "end_time": "2023-09-19T07:35:54.017225400Z",
     "start_time": "2023-09-19T07:35:53.970296300Z"
    }
   },
   "outputs": [],
   "source": [
    "# 1. Hozz létre egy dictionary-t (dict.) amelyhez a két kulcs 'a' és 'b' és a hozzájuk tartozó értékek rendre 9 és [12, 'c']"
   ]
  },
  {
   "cell_type": "code",
   "execution_count": 84,
   "id": "fa44cb21eee22ee3",
   "metadata": {
    "collapsed": false,
    "ExecuteTime": {
     "end_time": "2023-09-19T07:39:41.197339200Z",
     "start_time": "2023-09-19T07:39:41.194696200Z"
    }
   },
   "outputs": [],
   "source": [
    "dict1 = {\"a\" : 9, \"b\" : [12, \"c\"]}\n",
    "test_dict = {'a': 1, 'c': 2, 'b': 3}\n",
    "test_dict2 = {'d': 1, 'e': 2, 'f': 3}\n",
    "test_dict3 = {'g': 1, 'h': 2, 'i': 3}\n",
    "test_dol = {'a': [1, 2, 3], 'b': [5, 6, 7], 'c': [8, 9, 10]}"
   ]
  },
  {
   "cell_type": "code",
   "execution_count": 71,
   "id": "8f38c2ba17f46ab3",
   "metadata": {
    "collapsed": false,
    "ExecuteTime": {
     "end_time": "2023-09-19T07:35:55.821960800Z",
     "start_time": "2023-09-19T07:35:55.820697700Z"
    }
   },
   "outputs": [],
   "source": [
    "# 2. Kérd le az előző dictionary 'a' kulcsán lévő értéket"
   ]
  },
  {
   "cell_type": "code",
   "execution_count": 85,
   "id": "ae105a95dca05249",
   "metadata": {
    "collapsed": false,
    "ExecuteTime": {
     "end_time": "2023-09-19T07:39:43.499603600Z",
     "start_time": "2023-09-19T07:39:43.491783100Z"
    }
   },
   "outputs": [
    {
     "data": {
      "text/plain": "1"
     },
     "execution_count": 85,
     "metadata": {},
     "output_type": "execute_result"
    }
   ],
   "source": [
    "test_dict[\"a\"]"
   ]
  },
  {
   "cell_type": "code",
   "execution_count": 73,
   "id": "d64af3034dbf0bc2",
   "metadata": {
    "collapsed": false,
    "ExecuteTime": {
     "end_time": "2023-09-19T07:35:57.741910700Z",
     "start_time": "2023-09-19T07:35:57.725822200Z"
    }
   },
   "outputs": [],
   "source": [
    "# 3. Kérd le az előző dictionary 'd' kulcsán lévő értéket olyan módon, hogy ne hibát kapj, hanem Null legyen a visszatérési érték"
   ]
  },
  {
   "cell_type": "code",
   "execution_count": 74,
   "id": "9153fd4f597d5633",
   "metadata": {
    "collapsed": false,
    "ExecuteTime": {
     "end_time": "2023-09-19T07:35:57.904926300Z",
     "start_time": "2023-09-19T07:35:57.888895500Z"
    }
   },
   "outputs": [
    {
     "name": "stdout",
     "output_type": "stream",
     "text": [
      "Null\n"
     ]
    }
   ],
   "source": [
    "print(dict1.get(\"d\", \"Null\"))"
   ]
  },
  {
   "cell_type": "code",
   "execution_count": 75,
   "id": "8d0730f02cbd74ae",
   "metadata": {
    "collapsed": false,
    "ExecuteTime": {
     "end_time": "2023-09-19T07:35:59.238971500Z",
     "start_time": "2023-09-19T07:35:59.223047100Z"
    }
   },
   "outputs": [],
   "source": [
    "# 4., Írjon egy függvényt amely töröl egy megadott kulcsú elemet a dict.-ből\n",
    "# függvény név: remove_key\n",
    "# bemeneti paraméterek: input_dict, key\n",
    "# kimeneti típus: Dict "
   ]
  },
  {
   "cell_type": "code",
   "execution_count": 76,
   "id": "16025be7289f3fe1",
   "metadata": {
    "collapsed": false,
    "ExecuteTime": {
     "end_time": "2023-09-19T07:35:59.760946400Z",
     "start_time": "2023-09-19T07:35:59.760440100Z"
    }
   },
   "outputs": [],
   "source": [
    "def remove_key(input_dict, key):\n",
    "    if key in input_dict:\n",
    "        del input_dict[key]\n",
    "    return input_dict"
   ]
  },
  {
   "cell_type": "code",
   "execution_count": 77,
   "id": "1adaa6cfaf92ce4b",
   "metadata": {
    "collapsed": false,
    "ExecuteTime": {
     "end_time": "2023-09-19T07:36:01.869235900Z",
     "start_time": "2023-09-19T07:36:01.853278200Z"
    }
   },
   "outputs": [
    {
     "name": "stdout",
     "output_type": "stream",
     "text": [
      "{'a': 1, 'c': 2, 'b': 3}\n",
      "{'c': 2, 'b': 3}\n"
     ]
    }
   ],
   "source": [
    "print(test_dict)\n",
    "remove_key(test_dict, 'a')\n",
    "print(test_dict)"
   ]
  },
  {
   "cell_type": "code",
   "execution_count": null,
   "id": "4289ee61b660cf03",
   "metadata": {
    "collapsed": false
   },
   "outputs": [],
   "source": [
    "# 5., Írjon egy függvényt amely a sorba rendezi a kulcs-érték párokat a kulcs értéke szerint egy dictionary-ben\n",
    "# függvény név: sort_by_key\n",
    "# bemeneti paraméterek: input_dict\n",
    "# kimeneti típus: Dict "
   ]
  },
  {
   "cell_type": "code",
   "execution_count": 122,
   "id": "4144b46e7390123b",
   "metadata": {
    "collapsed": false,
    "ExecuteTime": {
     "end_time": "2023-09-19T08:05:11.515519100Z",
     "start_time": "2023-09-19T08:05:11.500157800Z"
    }
   },
   "outputs": [],
   "source": [
    "def sort_by_key(input_dict):\n",
    "    keys = sorted(input_dict)\n",
    "    new_dict = {}\n",
    "    counter = 0\n",
    "    for i in keys:\n",
    "        print(\"counter: \" + str(counter))\n",
    "        new_dict[i] = input_dict[i]\n",
    "    return new_dict"
   ]
  },
  {
   "cell_type": "code",
   "execution_count": 123,
   "id": "f03264405968e0fa",
   "metadata": {
    "collapsed": false,
    "ExecuteTime": {
     "end_time": "2023-09-19T08:06:35.981175300Z",
     "start_time": "2023-09-19T08:06:35.976505700Z"
    }
   },
   "outputs": [
    {
     "name": "stdout",
     "output_type": "stream",
     "text": [
      "counter: 0\n",
      "counter: 0\n",
      "counter: 0\n"
     ]
    },
    {
     "data": {
      "text/plain": "{'a': 1, 'b': 3, 'c': 2}"
     },
     "execution_count": 123,
     "metadata": {},
     "output_type": "execute_result"
    }
   ],
   "source": [
    "sort_by_key(test_dict)"
   ]
  },
  {
   "cell_type": "code",
   "execution_count": null,
   "id": "7f38190f627e8631",
   "metadata": {
    "collapsed": false
   },
   "outputs": [],
   "source": [
    "# 6., Írjon egy függvényt amely összeadja a dict.-ben található összes értéket\n",
    "# függvény név: sum_in_dict\n",
    "# bemeneti paraméterek: input_dict\n",
    "# kimeneti típus: float "
   ]
  },
  {
   "cell_type": "code",
   "execution_count": 126,
   "id": "15175be34ef8a9d9",
   "metadata": {
    "collapsed": false,
    "ExecuteTime": {
     "end_time": "2023-09-19T08:09:29.106121200Z",
     "start_time": "2023-09-19T08:09:29.096453Z"
    }
   },
   "outputs": [],
   "source": [
    "def sum_in_dict(input_dict):\n",
    "    new_list = []\n",
    "    for i in input_dict:\n",
    "        new_list.append(input_dict[i])\n",
    "    return sum(new_list)"
   ]
  },
  {
   "cell_type": "code",
   "execution_count": 127,
   "id": "b55c7574f7c47365",
   "metadata": {
    "collapsed": false,
    "ExecuteTime": {
     "end_time": "2023-09-19T08:09:30.552220200Z",
     "start_time": "2023-09-19T08:09:30.546473200Z"
    }
   },
   "outputs": [
    {
     "data": {
      "text/plain": "6"
     },
     "execution_count": 127,
     "metadata": {},
     "output_type": "execute_result"
    }
   ],
   "source": [
    "sum_in_dict(test_dict)"
   ]
  },
  {
   "cell_type": "code",
   "execution_count": null,
   "id": "129ac5fb35728b79",
   "metadata": {
    "collapsed": false
   },
   "outputs": [],
   "source": [
    "# 7., Írjon egy függvényt amely összekapcsol 2 dictionary-t 1 dict.-ben\n",
    "# függvény név: merge_two_dicts\n",
    "# bemeneti paraméterek: input_dict1, input_dict2\n",
    "# kimeneti típus: Dict "
   ]
  },
  {
   "cell_type": "code",
   "execution_count": 132,
   "id": "1d1cb11d826ad1ad",
   "metadata": {
    "collapsed": false,
    "ExecuteTime": {
     "end_time": "2023-09-19T08:30:00.845633900Z",
     "start_time": "2023-09-19T08:30:00.828814700Z"
    }
   },
   "outputs": [],
   "source": [
    "def merge_two_dicts(input_dict1, input_dict2):\n",
    "    merged_dict = {}\n",
    "    for i in input_dict1:\n",
    "        merged_dict[i] = input_dict1[i]\n",
    "    for j in input_dict2:\n",
    "        merged_dict[j] = input_dict2[j]\n",
    "    return merged_dict"
   ]
  },
  {
   "cell_type": "code",
   "execution_count": 133,
   "id": "6f6c6cc073780800",
   "metadata": {
    "collapsed": false,
    "ExecuteTime": {
     "end_time": "2023-09-19T08:30:02.297646500Z",
     "start_time": "2023-09-19T08:30:02.289508900Z"
    }
   },
   "outputs": [
    {
     "data": {
      "text/plain": "{'a': 1, 'c': 2, 'b': 3, 'd': 1, 'e': 2, 'f': 3}"
     },
     "execution_count": 133,
     "metadata": {},
     "output_type": "execute_result"
    }
   ],
   "source": [
    "merge_two_dicts(test_dict, test_dict2)"
   ]
  },
  {
   "cell_type": "code",
   "execution_count": null,
   "id": "2d6e28936e1fc7f6",
   "metadata": {
    "collapsed": false
   },
   "outputs": [],
   "source": [
    "# 8., Írjon egy függvényt amely összekapcsol n dictionary-t 1 dict.-ben\n",
    "# függvény név: merge_dicts\n",
    "# bemeneti paraméterek: *dicts\n",
    "# kimeneti típus: Dict "
   ]
  },
  {
   "cell_type": "code",
   "execution_count": 134,
   "id": "3d4f59def68ff61b",
   "metadata": {
    "collapsed": false,
    "ExecuteTime": {
     "end_time": "2023-09-19T08:35:04.216202400Z",
     "start_time": "2023-09-19T08:35:04.213767600Z"
    }
   },
   "outputs": [],
   "source": [
    "def merge_dicts(*dicts):\n",
    "    merged_dict = {}\n",
    "    for i in dicts:\n",
    "        for j in i:\n",
    "            merged_dict[j] = i[j]        \n",
    "    return merged_dict"
   ]
  },
  {
   "cell_type": "code",
   "execution_count": 135,
   "id": "e1dd09df21776128",
   "metadata": {
    "collapsed": false,
    "ExecuteTime": {
     "end_time": "2023-09-19T08:35:22.404545700Z",
     "start_time": "2023-09-19T08:35:22.388578800Z"
    }
   },
   "outputs": [
    {
     "data": {
      "text/plain": "{'a': 1, 'c': 2, 'b': 3, 'd': 1, 'e': 2, 'f': 3, 'g': 1, 'h': 2, 'i': 3}"
     },
     "execution_count": 135,
     "metadata": {},
     "output_type": "execute_result"
    }
   ],
   "source": [
    "merge_dicts(test_dict, test_dict2, test_dict3)"
   ]
  },
  {
   "cell_type": "code",
   "execution_count": null,
   "id": "31c2ef51ea259d5d",
   "metadata": {
    "collapsed": false
   },
   "outputs": [],
   "source": [
    "# 9., Írjon egy függvényt amely a bemeneti, pozitív egész számokat tartalmazó listát kiválogatja páros és páratlan számokra, és visszaad egy olyan dictionary-t, amelyben a kulcs az 'even' és 'odd', az értékek, pedig a listák.\n",
    "# függvény név: sort_list_by_parity\n",
    "# bemeneti paraméterek: input_list\n",
    "# kimeneti típus: Dict "
   ]
  },
  {
   "cell_type": "code",
   "execution_count": 136,
   "id": "85abb76721ac4860",
   "metadata": {
    "collapsed": false,
    "ExecuteTime": {
     "end_time": "2023-09-19T08:50:33.062816700Z",
     "start_time": "2023-09-19T08:50:33.053438800Z"
    }
   },
   "outputs": [],
   "source": [
    "def sort_list_by_parity(input_list):\n",
    "    parity_dict = {}\n",
    "    even_list = []\n",
    "    odd_list = []\n",
    "    for i in input_list:\n",
    "        if i % 2 == 0:\n",
    "            even_list.append(i)\n",
    "        else:\n",
    "            odd_list.append(i)\n",
    "    parity_dict[\"odd\"] = odd_list\n",
    "    parity_dict[\"even\"] = even_list\n",
    "    return parity_dict"
   ]
  },
  {
   "cell_type": "code",
   "execution_count": 137,
   "id": "eafbeb79effb4e1e",
   "metadata": {
    "collapsed": false,
    "ExecuteTime": {
     "end_time": "2023-09-19T08:50:46.441862700Z",
     "start_time": "2023-09-19T08:50:46.432084300Z"
    }
   },
   "outputs": [
    {
     "data": {
      "text/plain": "{'odd': [1, 3, 5], 'even': [2, 4]}"
     },
     "execution_count": 137,
     "metadata": {},
     "output_type": "execute_result"
    }
   ],
   "source": [
    "sort_list_by_parity(test_list2)"
   ]
  },
  {
   "cell_type": "code",
   "execution_count": null,
   "id": "b7d17d821c18b94e",
   "metadata": {
    "collapsed": false
   },
   "outputs": [],
   "source": [
    "# 10., Írjon egy függvényt amely a bemenetként kapott dictionary értékeinél található listák átlagait adja vissza egy új dictionary-be. {\"some_key\":[1,2,3,4],\"another_key\":[1,2,3,4],....} -> {\"some_key\":mean_of_values,\"another_key\":mean_of_values,....}\n",
    "# függvény név: mean_by_key_value\n",
    "# bemeneti paraméterek: input_dict\n",
    "# kimeneti típus: Dict"
   ]
  },
  {
   "cell_type": "code",
   "execution_count": 138,
   "id": "cb4d32f4c392dfdf",
   "metadata": {
    "collapsed": false,
    "ExecuteTime": {
     "end_time": "2023-09-19T09:01:48.302533600Z",
     "start_time": "2023-09-19T09:01:48.300865200Z"
    }
   },
   "outputs": [],
   "source": [
    "test_dol = {'a': [1, 2, 3], 'b': [5, 6, 7], 'c': [8, 9, 10]}"
   ]
  },
  {
   "cell_type": "code",
   "execution_count": 140,
   "outputs": [],
   "source": [
    "def mean_by_key_value(input_dict):\n",
    "    new_dict = {}\n",
    "    for i in input_dict:\n",
    "        new_dict[i] = sum(input_dict[i])/len(input_dict[i])\n",
    "    return new_dict"
   ],
   "metadata": {
    "collapsed": false,
    "ExecuteTime": {
     "end_time": "2023-09-19T09:06:35.882858300Z",
     "start_time": "2023-09-19T09:06:35.871023700Z"
    }
   },
   "id": "3f297655c29e1e6"
  },
  {
   "cell_type": "code",
   "execution_count": 141,
   "id": "f2728aad103eea86",
   "metadata": {
    "collapsed": false,
    "ExecuteTime": {
     "end_time": "2023-09-19T09:06:47.754636700Z",
     "start_time": "2023-09-19T09:06:47.750833100Z"
    }
   },
   "outputs": [
    {
     "data": {
      "text/plain": "{'a': 2.0, 'b': 6.0, 'c': 9.0}"
     },
     "execution_count": 141,
     "metadata": {},
     "output_type": "execute_result"
    }
   ],
   "source": [
    "mean_by_key_value(test_dol)"
   ]
  },
  {
   "cell_type": "code",
   "execution_count": null,
   "id": "4408607c342665b",
   "metadata": {
    "collapsed": false
   },
   "outputs": [],
   "source": [
    "# 11., Írjon egy függvényt amely a bemeneti lista értékeinek előállítja a gyakoriságát\n",
    "# függvény név: count_frequency\n",
    "# bemeneti paraméterek: input_list\n",
    "# kimeneti típus: Dict "
   ]
  },
  {
   "cell_type": "code",
   "execution_count": 143,
   "id": "c190bbd919048c7c",
   "metadata": {
    "collapsed": false,
    "ExecuteTime": {
     "end_time": "2023-09-19T09:11:14.919617700Z",
     "start_time": "2023-09-19T09:11:14.915910300Z"
    }
   },
   "outputs": [],
   "source": [
    "def count_frequency(input_list):\n",
    "    new_dict = {}\n",
    "    for i in input_list:\n",
    "        if i in new_dict:\n",
    "            new_dict[i] = new_dict[i] + 1\n",
    "        else:\n",
    "            new_dict[i] = 1\n",
    "    return new_dict"
   ]
  },
  {
   "cell_type": "code",
   "execution_count": 144,
   "id": "3cf3e1d2e4b6bd48",
   "metadata": {
    "collapsed": false,
    "ExecuteTime": {
     "end_time": "2023-09-19T09:11:15.862083100Z",
     "start_time": "2023-09-19T09:11:15.849643300Z"
    }
   },
   "outputs": [
    {
     "data": {
      "text/plain": "{1: 2, 2: 3, 3: 2, 4: 4, 5: 2, 6: 1, 7: 1, 8: 3, 9: 5}"
     },
     "execution_count": 144,
     "metadata": {},
     "output_type": "execute_result"
    }
   ],
   "source": [
    "count_frequency(test_list)"
   ]
  },
  {
   "cell_type": "markdown",
   "id": "4642e9fa7740d8ec",
   "metadata": {
    "collapsed": false
   },
   "source": [
    "### A heti feladatok függvény definícióit helyezze el a src/utils module-on belül a builtin_wrappers.py nevű fájlba."
   ]
  }
 ],
 "metadata": {
  "kernelspec": {
   "display_name": "Python 3 (ipykernel)",
   "language": "python",
   "name": "python3"
  },
  "language_info": {
   "codemirror_mode": {
    "name": "ipython",
    "version": 3
   },
   "file_extension": ".py",
   "mimetype": "text/x-python",
   "name": "python",
   "nbconvert_exporter": "python",
   "pygments_lexer": "ipython3",
   "version": "3.11.5"
  }
 },
 "nbformat": 4,
 "nbformat_minor": 5
}
